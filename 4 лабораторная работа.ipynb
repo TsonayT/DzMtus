{
  "cells": [
    {
      "cell_type": "markdown",
      "metadata": {
        "id": "eyzrGL-NYRAL"
      },
      "source": [
        "# Pandas часть 2. Домашнее Задание. Pro\n"
      ]
    },
    {
      "cell_type": "markdown",
      "metadata": {
        "id": "YXnJpnKwjKpx"
      },
      "source": [
        "### Задача 1. DateTime index\n",
        "\n",
        "* Подгрузите данные 'data.csv' (возможно, придется указать кодировку encoding cp1250) в переменную data.\n",
        "* Преобразуйте колонку InvoiceDate в DateTime index.\n",
        "* Удалите колонку InvoiceDate.\n"
      ]
    },
    {
      "cell_type": "code",
      "execution_count": 2,
      "metadata": {
        "id": "LRw62jj2gamL"
      },
      "outputs": [
        {
          "ename": "KeyError",
          "evalue": "\"['InvoiceDate'] not found in axis\"",
          "output_type": "error",
          "traceback": [
            "\u001b[1;31m---------------------------------------------------------------------------\u001b[0m",
            "\u001b[1;31mKeyError\u001b[0m                                  Traceback (most recent call last)",
            "Cell \u001b[1;32mIn[2], line 10\u001b[0m\n\u001b[0;32m      8\u001b[0m data[\u001b[38;5;124m'\u001b[39m\u001b[38;5;124mInvoiceDate\u001b[39m\u001b[38;5;124m'\u001b[39m] \u001b[38;5;241m=\u001b[39m pd\u001b[38;5;241m.\u001b[39mto_datetime(data[\u001b[38;5;124m'\u001b[39m\u001b[38;5;124mInvoiceDate\u001b[39m\u001b[38;5;124m'\u001b[39m])\n\u001b[0;32m      9\u001b[0m data\u001b[38;5;241m.\u001b[39mset_index(\u001b[38;5;124m'\u001b[39m\u001b[38;5;124mInvoiceDate\u001b[39m\u001b[38;5;124m'\u001b[39m, inplace\u001b[38;5;241m=\u001b[39m\u001b[38;5;28;01mTrue\u001b[39;00m)\n\u001b[1;32m---> 10\u001b[0m \u001b[43mdata\u001b[49m\u001b[38;5;241;43m.\u001b[39;49m\u001b[43mdrop\u001b[49m\u001b[43m(\u001b[49m\u001b[43mcolumns\u001b[49m\u001b[38;5;241;43m=\u001b[39;49m\u001b[43m[\u001b[49m\u001b[38;5;124;43m'\u001b[39;49m\u001b[38;5;124;43mInvoiceDate\u001b[39;49m\u001b[38;5;124;43m'\u001b[39;49m\u001b[43m]\u001b[49m\u001b[43m,\u001b[49m\u001b[43m \u001b[49m\u001b[43minplace\u001b[49m\u001b[38;5;241;43m=\u001b[39;49m\u001b[38;5;28;43;01mTrue\u001b[39;49;00m\u001b[43m)\u001b[49m\n",
            "File \u001b[1;32mc:\\Program Files\\Python312\\Lib\\site-packages\\pandas\\core\\frame.py:5568\u001b[0m, in \u001b[0;36mDataFrame.drop\u001b[1;34m(self, labels, axis, index, columns, level, inplace, errors)\u001b[0m\n\u001b[0;32m   5420\u001b[0m \u001b[38;5;28;01mdef\u001b[39;00m \u001b[38;5;21mdrop\u001b[39m(\n\u001b[0;32m   5421\u001b[0m     \u001b[38;5;28mself\u001b[39m,\n\u001b[0;32m   5422\u001b[0m     labels: IndexLabel \u001b[38;5;241m|\u001b[39m \u001b[38;5;28;01mNone\u001b[39;00m \u001b[38;5;241m=\u001b[39m \u001b[38;5;28;01mNone\u001b[39;00m,\n\u001b[1;32m   (...)\u001b[0m\n\u001b[0;32m   5429\u001b[0m     errors: IgnoreRaise \u001b[38;5;241m=\u001b[39m \u001b[38;5;124m\"\u001b[39m\u001b[38;5;124mraise\u001b[39m\u001b[38;5;124m\"\u001b[39m,\n\u001b[0;32m   5430\u001b[0m ) \u001b[38;5;241m-\u001b[39m\u001b[38;5;241m>\u001b[39m DataFrame \u001b[38;5;241m|\u001b[39m \u001b[38;5;28;01mNone\u001b[39;00m:\n\u001b[0;32m   5431\u001b[0m \u001b[38;5;250m    \u001b[39m\u001b[38;5;124;03m\"\"\"\u001b[39;00m\n\u001b[0;32m   5432\u001b[0m \u001b[38;5;124;03m    Drop specified labels from rows or columns.\u001b[39;00m\n\u001b[0;32m   5433\u001b[0m \n\u001b[1;32m   (...)\u001b[0m\n\u001b[0;32m   5566\u001b[0m \u001b[38;5;124;03m            weight  1.0     0.8\u001b[39;00m\n\u001b[0;32m   5567\u001b[0m \u001b[38;5;124;03m    \"\"\"\u001b[39;00m\n\u001b[1;32m-> 5568\u001b[0m     \u001b[38;5;28;01mreturn\u001b[39;00m \u001b[38;5;28;43msuper\u001b[39;49m\u001b[43m(\u001b[49m\u001b[43m)\u001b[49m\u001b[38;5;241;43m.\u001b[39;49m\u001b[43mdrop\u001b[49m\u001b[43m(\u001b[49m\n\u001b[0;32m   5569\u001b[0m \u001b[43m        \u001b[49m\u001b[43mlabels\u001b[49m\u001b[38;5;241;43m=\u001b[39;49m\u001b[43mlabels\u001b[49m\u001b[43m,\u001b[49m\n\u001b[0;32m   5570\u001b[0m \u001b[43m        \u001b[49m\u001b[43maxis\u001b[49m\u001b[38;5;241;43m=\u001b[39;49m\u001b[43maxis\u001b[49m\u001b[43m,\u001b[49m\n\u001b[0;32m   5571\u001b[0m \u001b[43m        \u001b[49m\u001b[43mindex\u001b[49m\u001b[38;5;241;43m=\u001b[39;49m\u001b[43mindex\u001b[49m\u001b[43m,\u001b[49m\n\u001b[0;32m   5572\u001b[0m \u001b[43m        \u001b[49m\u001b[43mcolumns\u001b[49m\u001b[38;5;241;43m=\u001b[39;49m\u001b[43mcolumns\u001b[49m\u001b[43m,\u001b[49m\n\u001b[0;32m   5573\u001b[0m \u001b[43m        \u001b[49m\u001b[43mlevel\u001b[49m\u001b[38;5;241;43m=\u001b[39;49m\u001b[43mlevel\u001b[49m\u001b[43m,\u001b[49m\n\u001b[0;32m   5574\u001b[0m \u001b[43m        \u001b[49m\u001b[43minplace\u001b[49m\u001b[38;5;241;43m=\u001b[39;49m\u001b[43minplace\u001b[49m\u001b[43m,\u001b[49m\n\u001b[0;32m   5575\u001b[0m \u001b[43m        \u001b[49m\u001b[43merrors\u001b[49m\u001b[38;5;241;43m=\u001b[39;49m\u001b[43merrors\u001b[49m\u001b[43m,\u001b[49m\n\u001b[0;32m   5576\u001b[0m \u001b[43m    \u001b[49m\u001b[43m)\u001b[49m\n",
            "File \u001b[1;32mc:\\Program Files\\Python312\\Lib\\site-packages\\pandas\\core\\generic.py:4785\u001b[0m, in \u001b[0;36mNDFrame.drop\u001b[1;34m(self, labels, axis, index, columns, level, inplace, errors)\u001b[0m\n\u001b[0;32m   4783\u001b[0m \u001b[38;5;28;01mfor\u001b[39;00m axis, labels \u001b[38;5;129;01min\u001b[39;00m axes\u001b[38;5;241m.\u001b[39mitems():\n\u001b[0;32m   4784\u001b[0m     \u001b[38;5;28;01mif\u001b[39;00m labels \u001b[38;5;129;01mis\u001b[39;00m \u001b[38;5;129;01mnot\u001b[39;00m \u001b[38;5;28;01mNone\u001b[39;00m:\n\u001b[1;32m-> 4785\u001b[0m         obj \u001b[38;5;241m=\u001b[39m \u001b[43mobj\u001b[49m\u001b[38;5;241;43m.\u001b[39;49m\u001b[43m_drop_axis\u001b[49m\u001b[43m(\u001b[49m\u001b[43mlabels\u001b[49m\u001b[43m,\u001b[49m\u001b[43m \u001b[49m\u001b[43maxis\u001b[49m\u001b[43m,\u001b[49m\u001b[43m \u001b[49m\u001b[43mlevel\u001b[49m\u001b[38;5;241;43m=\u001b[39;49m\u001b[43mlevel\u001b[49m\u001b[43m,\u001b[49m\u001b[43m \u001b[49m\u001b[43merrors\u001b[49m\u001b[38;5;241;43m=\u001b[39;49m\u001b[43merrors\u001b[49m\u001b[43m)\u001b[49m\n\u001b[0;32m   4787\u001b[0m \u001b[38;5;28;01mif\u001b[39;00m inplace:\n\u001b[0;32m   4788\u001b[0m     \u001b[38;5;28mself\u001b[39m\u001b[38;5;241m.\u001b[39m_update_inplace(obj)\n",
            "File \u001b[1;32mc:\\Program Files\\Python312\\Lib\\site-packages\\pandas\\core\\generic.py:4827\u001b[0m, in \u001b[0;36mNDFrame._drop_axis\u001b[1;34m(self, labels, axis, level, errors, only_slice)\u001b[0m\n\u001b[0;32m   4825\u001b[0m         new_axis \u001b[38;5;241m=\u001b[39m axis\u001b[38;5;241m.\u001b[39mdrop(labels, level\u001b[38;5;241m=\u001b[39mlevel, errors\u001b[38;5;241m=\u001b[39merrors)\n\u001b[0;32m   4826\u001b[0m     \u001b[38;5;28;01melse\u001b[39;00m:\n\u001b[1;32m-> 4827\u001b[0m         new_axis \u001b[38;5;241m=\u001b[39m \u001b[43maxis\u001b[49m\u001b[38;5;241;43m.\u001b[39;49m\u001b[43mdrop\u001b[49m\u001b[43m(\u001b[49m\u001b[43mlabels\u001b[49m\u001b[43m,\u001b[49m\u001b[43m \u001b[49m\u001b[43merrors\u001b[49m\u001b[38;5;241;43m=\u001b[39;49m\u001b[43merrors\u001b[49m\u001b[43m)\u001b[49m\n\u001b[0;32m   4828\u001b[0m     indexer \u001b[38;5;241m=\u001b[39m axis\u001b[38;5;241m.\u001b[39mget_indexer(new_axis)\n\u001b[0;32m   4830\u001b[0m \u001b[38;5;66;03m# Case for non-unique axis\u001b[39;00m\n\u001b[0;32m   4831\u001b[0m \u001b[38;5;28;01melse\u001b[39;00m:\n",
            "File \u001b[1;32mc:\\Program Files\\Python312\\Lib\\site-packages\\pandas\\core\\indexes\\base.py:7070\u001b[0m, in \u001b[0;36mIndex.drop\u001b[1;34m(self, labels, errors)\u001b[0m\n\u001b[0;32m   7068\u001b[0m \u001b[38;5;28;01mif\u001b[39;00m mask\u001b[38;5;241m.\u001b[39many():\n\u001b[0;32m   7069\u001b[0m     \u001b[38;5;28;01mif\u001b[39;00m errors \u001b[38;5;241m!=\u001b[39m \u001b[38;5;124m\"\u001b[39m\u001b[38;5;124mignore\u001b[39m\u001b[38;5;124m\"\u001b[39m:\n\u001b[1;32m-> 7070\u001b[0m         \u001b[38;5;28;01mraise\u001b[39;00m \u001b[38;5;167;01mKeyError\u001b[39;00m(\u001b[38;5;124mf\u001b[39m\u001b[38;5;124m\"\u001b[39m\u001b[38;5;132;01m{\u001b[39;00mlabels[mask]\u001b[38;5;241m.\u001b[39mtolist()\u001b[38;5;132;01m}\u001b[39;00m\u001b[38;5;124m not found in axis\u001b[39m\u001b[38;5;124m\"\u001b[39m)\n\u001b[0;32m   7071\u001b[0m     indexer \u001b[38;5;241m=\u001b[39m indexer[\u001b[38;5;241m~\u001b[39mmask]\n\u001b[0;32m   7072\u001b[0m \u001b[38;5;28;01mreturn\u001b[39;00m \u001b[38;5;28mself\u001b[39m\u001b[38;5;241m.\u001b[39mdelete(indexer)\n",
            "\u001b[1;31mKeyError\u001b[0m: \"['InvoiceDate'] not found in axis\""
          ]
        }
      ],
      "source": [
        "# Ваше решение\n",
        "import pandas as pd\n",
        "\n",
        "# Подгрузка данных 'data.csv' с указанием кодировки\n",
        "data = pd.read_csv('data.csv', encoding='cp1250')\n",
        "\n",
        "# Преобразование колонки InvoiceDate в DateTime index и удаление колонки InvoiceDate\n",
        "data['InvoiceDate'] = pd.to_datetime(data['InvoiceDate'])\n",
        "data.set_index('InvoiceDate', inplace=True)\n",
        "data.drop(columns=['InvoiceDate'], inplace=True)\n"
      ]
    },
    {
      "cell_type": "markdown",
      "metadata": {
        "id": "WTHAdIH9jKpy"
      },
      "source": [
        "### Задача 2\n",
        "\n",
        "Используя датафрейм data, выберите все заказы, совершенные за период 7 декабря 2010 года с часа дня до часа и одной минуты.  "
      ]
    },
    {
      "cell_type": "code",
      "execution_count": 7,
      "metadata": {
        "id": "bCbL0T02gaVq"
      },
      "outputs": [
        {
          "name": "stdout",
          "output_type": "stream",
          "text": [
            "                    InvoiceNo StockCode                          Description  \\\n",
            "InvoiceDate                                                                    \n",
            "2010-12-07 13:01:00    537604     84991          60 TEATIME FAIRY CAKE CASES   \n",
            "2010-12-07 13:01:00    537604     21845                DAIRY MAID STRIPE MUG   \n",
            "2010-12-07 13:01:00    537604     21534            DAIRY MAID LARGE MILK JUG   \n",
            "2010-12-07 13:01:00    537604     21527    RED RETROSPOT TRADITIONAL TEAPOT    \n",
            "2010-12-07 13:01:00    537604     21528       DAIRY MAID TRADITIONAL TEAPOT    \n",
            "2010-12-07 13:01:00    537604     21843             RED RETROSPOT CAKE STAND   \n",
            "2010-12-07 13:01:00    537604     22429           ENAMEL MEASURING JUG CREAM   \n",
            "2010-12-07 13:01:00    537604     22551             PLASTERS IN TIN SPACEBOY   \n",
            "2010-12-07 13:01:00    537604     22557     PLASTERS IN TIN VINTAGE PAISLEY    \n",
            "2010-12-07 13:01:00    537604     22555            PLASTERS IN TIN STRONGMAN   \n",
            "2010-12-07 13:01:00    537604     22304       COFFEE MUG BLUE PAISLEY DESIGN   \n",
            "2010-12-07 13:01:00    537604     22305       COFFEE MUG PINK PAISLEY DESIGN   \n",
            "2010-12-07 13:01:00    537604     20749           ASSORTED COLOUR MINI CASES   \n",
            "2010-12-07 13:01:00    537604     22525         CHILDRENS GARDEN GLOVES PINK   \n",
            "2010-12-07 13:01:00    537604     22524         CHILDRENS GARDEN GLOVES BLUE   \n",
            "2010-12-07 13:01:00    537604     22515             CHILDS GARDEN SPADE PINK   \n",
            "2010-12-07 13:01:00    537604     22514             CHILDS GARDEN SPADE BLUE   \n",
            "2010-12-07 13:01:00    537604     22518             CHILDS GARDEN BRUSH BLUE   \n",
            "2010-12-07 13:01:00    537604     82552                  WASHROOM METAL SIGN   \n",
            "2010-12-07 13:01:00    537604     20750             RED RETROSPOT MINI CASES   \n",
            "2010-12-07 13:01:00    537604     21212      PACK OF 72 RETROSPOT CAKE CASES   \n",
            "2010-12-07 13:01:00    537604     21210   SET OF 72 RETROSPOT PAPER  DOILIES   \n",
            "2010-12-07 13:01:00    537604     22567              20 DOLLY PEGS RETROSPOT   \n",
            "2010-12-07 13:01:00    537604     22558      CLOTHES PEGS RETROSPOT PACK 24    \n",
            "2010-12-07 13:01:00    537604     21155                RED RETROSPOT PEG BAG   \n",
            "2010-12-07 13:01:00    537604     22061  LARGE CAKE STAND  HANGING STRAWBERY   \n",
            "2010-12-07 13:01:00    537604     37446   MINI CAKE STAND WITH HANGING CAKES   \n",
            "2010-12-07 13:01:00    537604     37449   CERAMIC CAKE STAND + HANGING CAKES   \n",
            "2010-12-07 13:01:00    537604     22519             CHILDS GARDEN BRUSH PINK   \n",
            "2010-12-07 13:01:00    537604     21754             HOME BUILDING BLOCK WORD   \n",
            "2010-12-07 13:01:00    537604     20969    RED FLORAL FELTCRAFT SHOULDER BAG   \n",
            "2010-12-07 13:01:00    537604     20967   GREY FLORAL FELTCRAFT SHOULDER BAG   \n",
            "2010-12-07 13:01:00    537604     22570             FELTCRAFT CUSHION RABBIT   \n",
            "2010-12-07 13:01:00    537604     22568                FELTCRAFT CUSHION OWL   \n",
            "2010-12-07 13:01:00    537604     22569          FELTCRAFT CUSHION BUTTERFLY   \n",
            "2010-12-07 13:01:00    537604     20971     PINK BLUE FELT CRAFT TRINKET BOX   \n",
            "2010-12-07 13:01:00    537604     84880                WHITE WIRE EGG HOLDER   \n",
            "2010-12-07 13:01:00    537604     82484    WOOD BLACK BOARD ANT WHITE FINISH   \n",
            "2010-12-07 13:01:00    537604     22173   METAL 4 HOOK HANGER FRENCH CHATEAU   \n",
            "2010-12-07 13:01:00    537604     84879        ASSORTED COLOUR BIRD ORNAMENT   \n",
            "2010-12-07 13:01:00    537604     21136         PAINTED METAL PEARS ASSORTED   \n",
            "2010-12-07 13:01:00    537604     22185           SLATE TILE NATURAL HANGING   \n",
            "2010-12-07 13:01:00    537604     22488   NATURAL SLATE RECTANGLE CHALKBOARD   \n",
            "2010-12-07 13:01:00    537604     71477    COLOUR GLASS. STAR T-LIGHT HOLDER   \n",
            "2010-12-07 13:01:00    537604    85123A   WHITE HANGING HEART T-LIGHT HOLDER   \n",
            "\n",
            "                     Quantity  UnitPrice  CustomerID         Country  \n",
            "InvoiceDate                                                           \n",
            "2010-12-07 13:01:00        24       0.55     13488.0  United Kingdom  \n",
            "2010-12-07 13:01:00        12       2.95     13488.0  United Kingdom  \n",
            "2010-12-07 13:01:00         3       4.95     13488.0  United Kingdom  \n",
            "2010-12-07 13:01:00         2       7.95     13488.0  United Kingdom  \n",
            "2010-12-07 13:01:00         2       6.95     13488.0  United Kingdom  \n",
            "2010-12-07 13:01:00        24       9.95     13488.0  United Kingdom  \n",
            "2010-12-07 13:01:00         4       4.25     13488.0  United Kingdom  \n",
            "2010-12-07 13:01:00        12       1.65     13488.0  United Kingdom  \n",
            "2010-12-07 13:01:00        12       1.65     13488.0  United Kingdom  \n",
            "2010-12-07 13:01:00        12       1.65     13488.0  United Kingdom  \n",
            "2010-12-07 13:01:00        12       2.55     13488.0  United Kingdom  \n",
            "2010-12-07 13:01:00        12       2.55     13488.0  United Kingdom  \n",
            "2010-12-07 13:01:00         2       7.95     13488.0  United Kingdom  \n",
            "2010-12-07 13:01:00        10       1.25     13488.0  United Kingdom  \n",
            "2010-12-07 13:01:00        10       1.25     13488.0  United Kingdom  \n",
            "2010-12-07 13:01:00         6       2.10     13488.0  United Kingdom  \n",
            "2010-12-07 13:01:00         6       2.10     13488.0  United Kingdom  \n",
            "2010-12-07 13:01:00         6       2.10     13488.0  United Kingdom  \n",
            "2010-12-07 13:01:00        12       1.45     13488.0  United Kingdom  \n",
            "2010-12-07 13:01:00        12       6.35     13488.0  United Kingdom  \n",
            "2010-12-07 13:01:00        24       0.55     13488.0  United Kingdom  \n",
            "2010-12-07 13:01:00        12       1.45     13488.0  United Kingdom  \n",
            "2010-12-07 13:01:00        48       1.06     13488.0  United Kingdom  \n",
            "2010-12-07 13:01:00        48       1.25     13488.0  United Kingdom  \n",
            "2010-12-07 13:01:00         6       2.10     13488.0  United Kingdom  \n",
            "2010-12-07 13:01:00         6       9.95     13488.0  United Kingdom  \n",
            "2010-12-07 13:01:00         8       1.45     13488.0  United Kingdom  \n",
            "2010-12-07 13:01:00         6       9.95     13488.0  United Kingdom  \n",
            "2010-12-07 13:01:00         6       2.10     13488.0  United Kingdom  \n",
            "2010-12-07 13:01:00         6       5.95     13488.0  United Kingdom  \n",
            "2010-12-07 13:01:00         4       3.75     13488.0  United Kingdom  \n",
            "2010-12-07 13:01:00         4       3.75     13488.0  United Kingdom  \n",
            "2010-12-07 13:01:00         4       3.75     13488.0  United Kingdom  \n",
            "2010-12-07 13:01:00         4       3.75     13488.0  United Kingdom  \n",
            "2010-12-07 13:01:00         4       3.75     13488.0  United Kingdom  \n",
            "2010-12-07 13:01:00        12       1.25     13488.0  United Kingdom  \n",
            "2010-12-07 13:01:00        12       4.95     13488.0  United Kingdom  \n",
            "2010-12-07 13:01:00         3       6.45     13488.0  United Kingdom  \n",
            "2010-12-07 13:01:00         8       2.95     13488.0  United Kingdom  \n",
            "2010-12-07 13:01:00         8       1.69     13488.0  United Kingdom  \n",
            "2010-12-07 13:01:00         8       1.69     13488.0  United Kingdom  \n",
            "2010-12-07 13:01:00        12       1.65     13488.0  United Kingdom  \n",
            "2010-12-07 13:01:00        12       1.65     13488.0  United Kingdom  \n",
            "2010-12-07 13:01:00        24       2.75     13488.0  United Kingdom  \n",
            "2010-12-07 13:01:00        32       2.55     13488.0  United Kingdom  \n"
          ]
        }
      ],
      "source": [
        "# Ваше решение\n",
        "заказы_7_декабря_2010 = data['2010-12-07 13:00:00':'2010-12-07 13:01:00']\n",
        "print(заказы_7_декабря_2010)"
      ]
    },
    {
      "cell_type": "markdown",
      "metadata": {
        "id": "ndsgMp1BjKpz"
      },
      "source": [
        "### Задача 3\n",
        "\n",
        "\n",
        "По той же рабочей табличке\n",
        "* посчитайте количество уникальных наименований товаров (Description), которые купили за весь период (т. е. по всем данным). Используйте соответствующий метод.\n",
        "* найдите все уникальные страны, в которых были размещены заказы."
      ]
    },
    {
      "cell_type": "code",
      "execution_count": 15,
      "metadata": {
        "id": "Gb9KaMPLgaEm"
      },
      "outputs": [
        {
          "name": "stdout",
          "output_type": "stream",
          "text": [
            "['United Kingdom' 'France' 'Australia' 'Netherlands' 'Germany' 'Norway'\n",
            " 'EIRE' 'Switzerland' 'Spain' 'Poland' 'Portugal' 'Italy' 'Belgium'\n",
            " 'Lithuania' 'Japan' 'Iceland' 'Channel Islands' 'Denmark' 'Cyprus'\n",
            " 'Sweden' 'Austria' 'Israel' 'Finland' 'Bahrain' 'Greece' 'Hong Kong'\n",
            " 'Singapore' 'Lebanon' 'United Arab Emirates' 'Saudi Arabia'\n",
            " 'Czech Republic' 'Canada' 'Unspecified' 'Brazil' 'USA'\n",
            " 'European Community' 'Malta' 'RSA']\n"
          ]
        }
      ],
      "source": [
        "# Ваше решение\n",
        "# Подсчет количества уникальных наименований товаров (Description)\n",
        "количество_уникальных_товаров = data['Description'].nunique()\n",
        "\n",
        "# Поиск всех уникальных стран, в которых были размещены заказы\n",
        "уникальные_страны = data['Country'].unique()\n",
        "print(уникальные_страны)"
      ]
    },
    {
      "cell_type": "markdown",
      "metadata": {
        "id": "YZSokdG_jKp1"
      },
      "source": [
        "### Задача 4\n",
        "\n",
        "\n",
        "* Посчитайте матрицу корреляции Спирмена для наших данных.\n",
        "* Найдите 1%, 50% и 99% квантили цены за единицу товара.\n",
        "\n",
        "*Для решения данной задачи потребуется самостоятельно найти способ получения матрицы Спирмена. Обратите внимание, на вебинаре продемонстрирован пример матрицы Пирсона.*"
      ]
    },
    {
      "cell_type": "code",
      "execution_count": 18,
      "metadata": {
        "id": "fnkdsz61gZtX"
      },
      "outputs": [
        {
          "ename": "ValueError",
          "evalue": "could not convert string to float: 'C536379'",
          "output_type": "error",
          "traceback": [
            "\u001b[1;31m---------------------------------------------------------------------------\u001b[0m",
            "\u001b[1;31mValueError\u001b[0m                                Traceback (most recent call last)",
            "Cell \u001b[1;32mIn[18], line 3\u001b[0m\n\u001b[0;32m      1\u001b[0m \u001b[38;5;66;03m# Ваше решение\u001b[39;00m\n\u001b[0;32m      2\u001b[0m \u001b[38;5;66;03m# Посчитаем матрицу корреляции Спирмена для наших данных\u001b[39;00m\n\u001b[1;32m----> 3\u001b[0m корреляция_спирмена \u001b[38;5;241m=\u001b[39m \u001b[43mdata\u001b[49m\u001b[38;5;241;43m.\u001b[39;49m\u001b[43mcorr\u001b[49m\u001b[43m(\u001b[49m\u001b[43mmethod\u001b[49m\u001b[38;5;241;43m=\u001b[39;49m\u001b[38;5;124;43m'\u001b[39;49m\u001b[38;5;124;43mspearman\u001b[39;49m\u001b[38;5;124;43m'\u001b[39;49m\u001b[43m)\u001b[49m\n\u001b[0;32m      5\u001b[0m \u001b[38;5;66;03m# Найдем 1%, 50% и 99% квантили цены за единицу товара\u001b[39;00m\n\u001b[0;32m      6\u001b[0m квантили \u001b[38;5;241m=\u001b[39m data[\u001b[38;5;124m'\u001b[39m\u001b[38;5;124mUnitPrice\u001b[39m\u001b[38;5;124m'\u001b[39m]\u001b[38;5;241m.\u001b[39mquantile([\u001b[38;5;241m0.01\u001b[39m, \u001b[38;5;241m0.5\u001b[39m, \u001b[38;5;241m0.99\u001b[39m])\n",
            "File \u001b[1;32mc:\\Program Files\\Python312\\Lib\\site-packages\\pandas\\core\\frame.py:11036\u001b[0m, in \u001b[0;36mDataFrame.corr\u001b[1;34m(self, method, min_periods, numeric_only)\u001b[0m\n\u001b[0;32m  11034\u001b[0m cols \u001b[38;5;241m=\u001b[39m data\u001b[38;5;241m.\u001b[39mcolumns\n\u001b[0;32m  11035\u001b[0m idx \u001b[38;5;241m=\u001b[39m cols\u001b[38;5;241m.\u001b[39mcopy()\n\u001b[1;32m> 11036\u001b[0m mat \u001b[38;5;241m=\u001b[39m \u001b[43mdata\u001b[49m\u001b[38;5;241;43m.\u001b[39;49m\u001b[43mto_numpy\u001b[49m\u001b[43m(\u001b[49m\u001b[43mdtype\u001b[49m\u001b[38;5;241;43m=\u001b[39;49m\u001b[38;5;28;43mfloat\u001b[39;49m\u001b[43m,\u001b[49m\u001b[43m \u001b[49m\u001b[43mna_value\u001b[49m\u001b[38;5;241;43m=\u001b[39;49m\u001b[43mnp\u001b[49m\u001b[38;5;241;43m.\u001b[39;49m\u001b[43mnan\u001b[49m\u001b[43m,\u001b[49m\u001b[43m \u001b[49m\u001b[43mcopy\u001b[49m\u001b[38;5;241;43m=\u001b[39;49m\u001b[38;5;28;43;01mFalse\u001b[39;49;00m\u001b[43m)\u001b[49m\n\u001b[0;32m  11038\u001b[0m \u001b[38;5;28;01mif\u001b[39;00m method \u001b[38;5;241m==\u001b[39m \u001b[38;5;124m\"\u001b[39m\u001b[38;5;124mpearson\u001b[39m\u001b[38;5;124m\"\u001b[39m:\n\u001b[0;32m  11039\u001b[0m     correl \u001b[38;5;241m=\u001b[39m libalgos\u001b[38;5;241m.\u001b[39mnancorr(mat, minp\u001b[38;5;241m=\u001b[39mmin_periods)\n",
            "File \u001b[1;32mc:\\Program Files\\Python312\\Lib\\site-packages\\pandas\\core\\frame.py:1981\u001b[0m, in \u001b[0;36mDataFrame.to_numpy\u001b[1;34m(self, dtype, copy, na_value)\u001b[0m\n\u001b[0;32m   1979\u001b[0m \u001b[38;5;28;01mif\u001b[39;00m dtype \u001b[38;5;129;01mis\u001b[39;00m \u001b[38;5;129;01mnot\u001b[39;00m \u001b[38;5;28;01mNone\u001b[39;00m:\n\u001b[0;32m   1980\u001b[0m     dtype \u001b[38;5;241m=\u001b[39m np\u001b[38;5;241m.\u001b[39mdtype(dtype)\n\u001b[1;32m-> 1981\u001b[0m result \u001b[38;5;241m=\u001b[39m \u001b[38;5;28;43mself\u001b[39;49m\u001b[38;5;241;43m.\u001b[39;49m\u001b[43m_mgr\u001b[49m\u001b[38;5;241;43m.\u001b[39;49m\u001b[43mas_array\u001b[49m\u001b[43m(\u001b[49m\u001b[43mdtype\u001b[49m\u001b[38;5;241;43m=\u001b[39;49m\u001b[43mdtype\u001b[49m\u001b[43m,\u001b[49m\u001b[43m \u001b[49m\u001b[43mcopy\u001b[49m\u001b[38;5;241;43m=\u001b[39;49m\u001b[43mcopy\u001b[49m\u001b[43m,\u001b[49m\u001b[43m \u001b[49m\u001b[43mna_value\u001b[49m\u001b[38;5;241;43m=\u001b[39;49m\u001b[43mna_value\u001b[49m\u001b[43m)\u001b[49m\n\u001b[0;32m   1982\u001b[0m \u001b[38;5;28;01mif\u001b[39;00m result\u001b[38;5;241m.\u001b[39mdtype \u001b[38;5;129;01mis\u001b[39;00m \u001b[38;5;129;01mnot\u001b[39;00m dtype:\n\u001b[0;32m   1983\u001b[0m     result \u001b[38;5;241m=\u001b[39m np\u001b[38;5;241m.\u001b[39marray(result, dtype\u001b[38;5;241m=\u001b[39mdtype, copy\u001b[38;5;241m=\u001b[39m\u001b[38;5;28;01mFalse\u001b[39;00m)\n",
            "File \u001b[1;32mc:\\Program Files\\Python312\\Lib\\site-packages\\pandas\\core\\internals\\managers.py:1692\u001b[0m, in \u001b[0;36mBlockManager.as_array\u001b[1;34m(self, dtype, copy, na_value)\u001b[0m\n\u001b[0;32m   1690\u001b[0m         arr\u001b[38;5;241m.\u001b[39mflags\u001b[38;5;241m.\u001b[39mwriteable \u001b[38;5;241m=\u001b[39m \u001b[38;5;28;01mFalse\u001b[39;00m\n\u001b[0;32m   1691\u001b[0m \u001b[38;5;28;01melse\u001b[39;00m:\n\u001b[1;32m-> 1692\u001b[0m     arr \u001b[38;5;241m=\u001b[39m \u001b[38;5;28;43mself\u001b[39;49m\u001b[38;5;241;43m.\u001b[39;49m\u001b[43m_interleave\u001b[49m\u001b[43m(\u001b[49m\u001b[43mdtype\u001b[49m\u001b[38;5;241;43m=\u001b[39;49m\u001b[43mdtype\u001b[49m\u001b[43m,\u001b[49m\u001b[43m \u001b[49m\u001b[43mna_value\u001b[49m\u001b[38;5;241;43m=\u001b[39;49m\u001b[43mna_value\u001b[49m\u001b[43m)\u001b[49m\n\u001b[0;32m   1693\u001b[0m     \u001b[38;5;66;03m# The underlying data was copied within _interleave, so no need\u001b[39;00m\n\u001b[0;32m   1694\u001b[0m     \u001b[38;5;66;03m# to further copy if copy=True or setting na_value\u001b[39;00m\n\u001b[0;32m   1696\u001b[0m \u001b[38;5;28;01mif\u001b[39;00m na_value \u001b[38;5;129;01mis\u001b[39;00m lib\u001b[38;5;241m.\u001b[39mno_default:\n",
            "File \u001b[1;32mc:\\Program Files\\Python312\\Lib\\site-packages\\pandas\\core\\internals\\managers.py:1751\u001b[0m, in \u001b[0;36mBlockManager._interleave\u001b[1;34m(self, dtype, na_value)\u001b[0m\n\u001b[0;32m   1749\u001b[0m     \u001b[38;5;28;01melse\u001b[39;00m:\n\u001b[0;32m   1750\u001b[0m         arr \u001b[38;5;241m=\u001b[39m blk\u001b[38;5;241m.\u001b[39mget_values(dtype)\n\u001b[1;32m-> 1751\u001b[0m     \u001b[43mresult\u001b[49m\u001b[43m[\u001b[49m\u001b[43mrl\u001b[49m\u001b[38;5;241;43m.\u001b[39;49m\u001b[43mindexer\u001b[49m\u001b[43m]\u001b[49m \u001b[38;5;241m=\u001b[39m arr\n\u001b[0;32m   1752\u001b[0m     itemmask[rl\u001b[38;5;241m.\u001b[39mindexer] \u001b[38;5;241m=\u001b[39m \u001b[38;5;241m1\u001b[39m\n\u001b[0;32m   1754\u001b[0m \u001b[38;5;28;01mif\u001b[39;00m \u001b[38;5;129;01mnot\u001b[39;00m itemmask\u001b[38;5;241m.\u001b[39mall():\n",
            "\u001b[1;31mValueError\u001b[0m: could not convert string to float: 'C536379'"
          ]
        }
      ],
      "source": [
        "# Ваше решение\n",
        "# Посчитаем матрицу корреляции Спирмена для наших данных\n",
        "корреляция_спирмена = data.corr(method='spearman')\n",
        "\n",
        "# Найдем 1%, 50% и 99% квантили цены за единицу товара\n",
        "квантили = data['UnitPrice'].quantile([0.01, 0.5, 0.99])\n"
      ]
    },
    {
      "cell_type": "markdown",
      "metadata": {
        "id": "wzJPgjJvjKp2"
      },
      "source": [
        "### Задача 5\n",
        "\n",
        "\n",
        "Найдите количество клиентов, которые оформляли заказ в понедельники. Для этого\n",
        "* сделайте подвыборку, соответствующую условию \"в понедельник\",\n",
        "* посчитайте количество уникальных ID клиентов.\n",
        "\n",
        "*Для решения этой задачи потребуется использовать параметр индекса weekday (по аналогии с рассмотренными на вебинаре примерами .index.month, .index.day)*."
      ]
    },
    {
      "cell_type": "code",
      "execution_count": 20,
      "metadata": {
        "id": "6V9p9unKgZUe"
      },
      "outputs": [
        {
          "name": "stdout",
          "output_type": "stream",
          "text": [
            "1769\n"
          ]
        }
      ],
      "source": [
        "# Ваше решение\n",
        "# Создаем подвыборку заказов, совершенных в понедельник\n",
        "заказы_в_понедельник = data[data.index.weekday == 0]\n",
        "\n",
        "# Считаем количество уникальных ID клиентов\n",
        "количество_уникальных_клиентов_в_понедельник = заказы_в_понедельник['CustomerID'].nunique()\n",
        "print(количество_уникальных_клиентов_в_понедельник)"
      ]
    }
  ],
  "metadata": {
    "colab": {
      "provenance": []
    },
    "kernelspec": {
      "display_name": "Python 3",
      "name": "python3"
    },
    "language_info": {
      "codemirror_mode": {
        "name": "ipython",
        "version": 3
      },
      "file_extension": ".py",
      "mimetype": "text/x-python",
      "name": "python",
      "nbconvert_exporter": "python",
      "pygments_lexer": "ipython3",
      "version": "3.12.2"
    }
  },
  "nbformat": 4,
  "nbformat_minor": 0
}
