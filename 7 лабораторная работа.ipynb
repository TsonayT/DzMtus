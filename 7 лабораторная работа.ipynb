{
  "nbformat": 4,
  "nbformat_minor": 0,
  "metadata": {
    "colab": {
      "provenance": []
    },
    "kernelspec": {
      "name": "python3",
      "display_name": "Python 3"
    }
  },
  "cells": [
    {
      "cell_type": "markdown",
      "metadata": {
        "id": "JduyACta_m4X"
      },
      "source": [
        "# Домашнее задание Парсинг данных\n",
        "# Pro\n",
        "\n",
        "Возьмите базу квартир (moscow.csv), проведите парсинг и очистку данных:\n",
        "\n",
        "● Уберите строки “Для заметок”\n",
        "\n",
        "● Уберите столбцы “ГРМ” и “Примечания”\n",
        "\n",
        "● Для столбца “Балкон” добавьте категорию “Отсутствует” (вместо NaN)\n",
        "\n",
        "● Значения столбца “Бонус агенту” переведите в тысячи рублей, а пустые значения\n",
        "заполните нулями\n",
        "\n",
        "● В столбец “Площадь” запишите общую площадь всех помещений (формат записи данных в столбце \"64.1/23/20\", где 64.1 - общая площадь всех помещений) \n",
        "\n",
        "● Для столбца “Санузел” заполните отсутствующие значения строкой “Нет данных”\n",
        "\n",
        "● Столбец “Цена” переведите в тысячи рублей\n",
        "\n",
        "**ПРИМЕЧАНИЕ:** Чтобы правильно загрузить датасет moscow.csv, нужно указать параметр `sep = ;` в функции `pd.read_csv()`"
      ]
    },
    {
      "cell_type": "code",
      "metadata": {
        "id": "0_cb-YDAJoEb"
      },
      "source": [
        "# Статический вывод графики (графики отображаются в той ячейке, в которой используется plt.show())\n",
        "import pandas as pd # Импортируем библиотеку обработки и анализа данных pandas\n",
        "import matplotlib.pyplot as plt # Импортируем модуль pyplot библиотеки matplotlib для построения графиков\n",
        "import datetime                 # Импортируем модуль datetime для обработки данных в формете даты\n",
        "import numpy as np              # Импортируем библиотеку numpy\n",
        "from google.colab import files  # Импортируем библиотеку files для работы с файлами\n",
        "import re                       # Регулярные выражения\n",
        "\n",
        "# Рисовать графики сразу же\n",
        "%matplotlib inline"
      ],
      "execution_count": null,
      "outputs": []
    },
    {
      "cell_type": "code",
      "metadata": {
        "id": "lwdtpQugXOln"
      },
      "source": [
        "# Для загрузки данных используем drive\n",
        "from google.colab import drive\n",
        "drive.mount('/content/drive')"
      ],
      "execution_count": null,
      "outputs": []
    }
  ]
}