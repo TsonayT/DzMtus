{
  "cells": [
    {
      "cell_type": "markdown",
      "metadata": {
        "id": "v4xEpjThONqO"
      },
      "source": [
        "# Pandas часть 1. Домашнее Задание. Pro\n",
        "\n",
        "*2 балла за каждую задачу*"
      ]
    },
    {
      "cell_type": "markdown",
      "metadata": {
        "id": "pE1Y1o7KJ2YE"
      },
      "source": [
        "### Задача 1\n",
        "*(2 балла)*\n",
        "\n",
        "Используя соответствующую функцию библиотеки Pandas, подгрузите датасет из файла 'train.csv'. \n",
        "\n",
        "Выведите на экран первые 5 строк датафрейма (метод head).\n",
        "\n",
        "В качестве индексов датафрейма укажите нулевой столбец.\n"
      ]
    },
    {
      "cell_type": "markdown",
      "metadata": {
        "id": "2ezb2xCINL8_"
      },
      "source": [
        "**Решение:**"
      ]
    },
    {
      "cell_type": "code",
      "execution_count": 1,
      "metadata": {
        "id": "B6MSVCRmC8nL"
      },
      "outputs": [
        {
          "name": "stdout",
          "output_type": "stream",
          "text": [
            "    MSSubClass MSZoning  LotFrontage  LotArea Street Alley LotShape  \\\n",
            "Id                                                                    \n",
            "1           60       RL         65.0     8450   Pave   NaN      Reg   \n",
            "2           20       RL         80.0     9600   Pave   NaN      Reg   \n",
            "3           60       RL         68.0    11250   Pave   NaN      IR1   \n",
            "4           70       RL         60.0     9550   Pave   NaN      IR1   \n",
            "5           60       RL         84.0    14260   Pave   NaN      IR1   \n",
            "\n",
            "   LandContour Utilities LotConfig  ... PoolArea PoolQC Fence MiscFeature  \\\n",
            "Id                                  ...                                     \n",
            "1          Lvl    AllPub    Inside  ...        0    NaN   NaN         NaN   \n",
            "2          Lvl    AllPub       FR2  ...        0    NaN   NaN         NaN   \n",
            "3          Lvl    AllPub    Inside  ...        0    NaN   NaN         NaN   \n",
            "4          Lvl    AllPub    Corner  ...        0    NaN   NaN         NaN   \n",
            "5          Lvl    AllPub       FR2  ...        0    NaN   NaN         NaN   \n",
            "\n",
            "   MiscVal MoSold  YrSold  SaleType  SaleCondition  SalePrice  \n",
            "Id                                                             \n",
            "1        0      2    2008        WD         Normal     208500  \n",
            "2        0      5    2007        WD         Normal     181500  \n",
            "3        0      9    2008        WD         Normal     223500  \n",
            "4        0      2    2006        WD        Abnorml     140000  \n",
            "5        0     12    2008        WD         Normal     250000  \n",
            "\n",
            "[5 rows x 80 columns]\n"
          ]
        }
      ],
      "source": [
        "import pandas as pd\n",
        "\n",
        "датафрейм = pd.read_csv('train.csv', index_col=0)\n",
        "print(датафрейм.head())\n"
      ]
    },
    {
      "cell_type": "markdown",
      "metadata": {
        "id": "L4tuO6nGPkge"
      },
      "source": [
        "### Задача 2\n",
        "*(2 балла)*\n",
        "\n",
        "Для подгруженного из предыдущей задачи датасета выполните следующее:\n",
        "* посчитайте, сколько всего записей,\n",
        "* определите тип данных в каждом столбце,\n",
        "* проверьте, есть ли пропуски,\n",
        "* выведите на экран описательные статистики.\n",
        "\n",
        "P.S. Используйте соответствующие встроенные методы."
      ]
    },
    {
      "cell_type": "markdown",
      "metadata": {
        "id": "FikmB_61P7JS"
      },
      "source": [
        "**Решение:**"
      ]
    },
    {
      "cell_type": "code",
      "execution_count": 2,
      "metadata": {},
      "outputs": [
        {
          "name": "stdout",
          "output_type": "stream",
          "text": [
            "Количество записей: 1460\n",
            "Типы данных в каждом столбце:\n",
            " MSSubClass         int64\n",
            "MSZoning          object\n",
            "LotFrontage      float64\n",
            "LotArea            int64\n",
            "Street            object\n",
            "                  ...   \n",
            "MoSold             int64\n",
            "YrSold             int64\n",
            "SaleType          object\n",
            "SaleCondition     object\n",
            "SalePrice          int64\n",
            "Length: 80, dtype: object\n",
            "Пропуски в данных:\n",
            " MSSubClass       False\n",
            "MSZoning         False\n",
            "LotFrontage       True\n",
            "LotArea          False\n",
            "Street           False\n",
            "                 ...  \n",
            "MoSold           False\n",
            "YrSold           False\n",
            "SaleType         False\n",
            "SaleCondition    False\n",
            "SalePrice        False\n",
            "Length: 80, dtype: bool\n",
            "Описательные статистики:\n",
            "         MSSubClass  LotFrontage        LotArea  OverallQual  OverallCond  \\\n",
            "count  1460.000000  1201.000000    1460.000000  1460.000000  1460.000000   \n",
            "mean     56.897260    70.049958   10516.828082     6.099315     5.575342   \n",
            "std      42.300571    24.284752    9981.264932     1.382997     1.112799   \n",
            "min      20.000000    21.000000    1300.000000     1.000000     1.000000   \n",
            "25%      20.000000    59.000000    7553.500000     5.000000     5.000000   \n",
            "50%      50.000000    69.000000    9478.500000     6.000000     5.000000   \n",
            "75%      70.000000    80.000000   11601.500000     7.000000     6.000000   \n",
            "max     190.000000   313.000000  215245.000000    10.000000     9.000000   \n",
            "\n",
            "         YearBuilt  YearRemodAdd   MasVnrArea   BsmtFinSF1   BsmtFinSF2  ...  \\\n",
            "count  1460.000000   1460.000000  1452.000000  1460.000000  1460.000000  ...   \n",
            "mean   1971.267808   1984.865753   103.685262   443.639726    46.549315  ...   \n",
            "std      30.202904     20.645407   181.066207   456.098091   161.319273  ...   \n",
            "min    1872.000000   1950.000000     0.000000     0.000000     0.000000  ...   \n",
            "25%    1954.000000   1967.000000     0.000000     0.000000     0.000000  ...   \n",
            "50%    1973.000000   1994.000000     0.000000   383.500000     0.000000  ...   \n",
            "75%    2000.000000   2004.000000   166.000000   712.250000     0.000000  ...   \n",
            "max    2010.000000   2010.000000  1600.000000  5644.000000  1474.000000  ...   \n",
            "\n",
            "        WoodDeckSF  OpenPorchSF  EnclosedPorch    3SsnPorch  ScreenPorch  \\\n",
            "count  1460.000000  1460.000000    1460.000000  1460.000000  1460.000000   \n",
            "mean     94.244521    46.660274      21.954110     3.409589    15.060959   \n",
            "std     125.338794    66.256028      61.119149    29.317331    55.757415   \n",
            "min       0.000000     0.000000       0.000000     0.000000     0.000000   \n",
            "25%       0.000000     0.000000       0.000000     0.000000     0.000000   \n",
            "50%       0.000000    25.000000       0.000000     0.000000     0.000000   \n",
            "75%     168.000000    68.000000       0.000000     0.000000     0.000000   \n",
            "max     857.000000   547.000000     552.000000   508.000000   480.000000   \n",
            "\n",
            "          PoolArea       MiscVal       MoSold       YrSold      SalePrice  \n",
            "count  1460.000000   1460.000000  1460.000000  1460.000000    1460.000000  \n",
            "mean      2.758904     43.489041     6.321918  2007.815753  180921.195890  \n",
            "std      40.177307    496.123024     2.703626     1.328095   79442.502883  \n",
            "min       0.000000      0.000000     1.000000  2006.000000   34900.000000  \n",
            "25%       0.000000      0.000000     5.000000  2007.000000  129975.000000  \n",
            "50%       0.000000      0.000000     6.000000  2008.000000  163000.000000  \n",
            "75%       0.000000      0.000000     8.000000  2009.000000  214000.000000  \n",
            "max     738.000000  15500.000000    12.000000  2010.000000  755000.000000  \n",
            "\n",
            "[8 rows x 37 columns]\n"
          ]
        }
      ],
      "source": [
        "import pandas as pd\n",
        "\n",
        "# Посчитаем количество записей в датафрейме\n",
        "количество_записей = len(датафрейм)\n",
        "\n",
        "# Определим тип данных в каждом столбце\n",
        "типы_данных = датафрейм.dtypes\n",
        "\n",
        "# Проверим наличие пропусков\n",
        "пропуски = датафрейм.isnull().any()\n",
        "\n",
        "# Выведем описательные статистики\n",
        "описательные_статистики = датафрейм.describe()\n",
        "\n",
        "print(\"Количество записей:\", количество_записей)\n",
        "print(\"Типы данных в каждом столбце:\\n\", типы_данных)\n",
        "print(\"Пропуски в данных:\\n\", пропуски)\n",
        "print(\"Описательные статистики:\\n\", описательные_статистики)\n"
      ]
    },
    {
      "cell_type": "markdown",
      "metadata": {},
      "source": []
    },
    {
      "cell_type": "markdown",
      "metadata": {
        "id": "4wSd0c6cHXy4"
      },
      "source": [
        "### Задача 3\n",
        "*(2 балла)*\n",
        "\n",
        "Используя соответствующий встроенный метод, дропните, т. е. удалите из нашей таблички все столбцы, у которых количество пропущенных значений больше 200.\n",
        "\n",
        "* Найдите все такие столбцы (метод .isna() + подвыборка с условием).\n",
        "* Определите их названия.\n",
        "* Дропните их (используйте метод .drop(имена столбцов)).\n",
        "* Результат сохраните в новой табличке data_1, исходную менять не нужно.\n",
        "\n",
        "Могут быть полезны следующие параметры и методы:\n",
        "\n",
        "*   columns - названия столбцов датафрейма\n",
        "*   df[условие] - подвыборка элементов по условию\n",
        "*   .drop - удаление строк или столбцов (в зависимости от параметра axis)\n",
        "\n"
      ]
    },
    {
      "cell_type": "markdown",
      "metadata": {
        "id": "0qBu8jZANGBY"
      },
      "source": [
        "**Решение:**"
      ]
    },
    {
      "cell_type": "code",
      "execution_count": 3,
      "metadata": {
        "id": "o6e1OQ9ZC_kK"
      },
      "outputs": [],
      "source": [
        "# Найдем все столбцы, у которых количество пропущенных значений больше 200\n",
        "столбцы_с_пропусками = датафрейм.columns[датафрейм.isna().sum() > 200]\n",
        "\n",
        "# Определим их названия\n",
        "названия_столбцов = столбцы_с_пропусками.tolist()\n",
        "\n",
        "# Дропнем их\n",
        "data_1 = датафрейм.drop(столбцы_с_пропусками, axis=1)\n"
      ]
    },
    {
      "cell_type": "markdown",
      "metadata": {
        "id": "ZqgZgXU3IaZF"
      },
      "source": [
        "### Задача 4\n",
        "*(2 балла)*\n",
        "\n",
        "Данные, с которыми мы работаем в этом домашнем задании, содержат информацию о проданных домах. В датафрейме из прошлой задачи (data_1) найдите все дома, проданные в 2007 году, у которых цена продажи выше 300000 и есть бассейн. Для подвыборки с указанными условиями сначала создайте маску:\n",
        "\n",
        "* цена продажи SalePrice\n",
        "* год продажи YrSold\n",
        "* наличие бассейна можно определить по столбцу PoolArea"
      ]
    },
    {
      "cell_type": "markdown",
      "metadata": {
        "id": "rCAbJ-HRNARr"
      },
      "source": [
        "**Решение:**"
      ]
    },
    {
      "cell_type": "code",
      "execution_count": 5,
      "metadata": {
        "id": "aZxVQFGKDIJr"
      },
      "outputs": [
        {
          "name": "stdout",
          "output_type": "stream",
          "text": [
            "      MSSubClass MSZoning  LotArea Street LotShape LandContour Utilities  \\\n",
            "Id                                                                         \n",
            "1183          60       RL    15623   Pave      IR1         Lvl    AllPub   \n",
            "\n",
            "     LotConfig LandSlope Neighborhood  ... EnclosedPorch 3SsnPorch  \\\n",
            "Id                                     ...                           \n",
            "1183    Corner       Gtl      NoRidge  ...             0         0   \n",
            "\n",
            "     ScreenPorch PoolArea  MiscVal  MoSold  YrSold  SaleType SaleCondition  \\\n",
            "Id                                                                           \n",
            "1183           0      555        0       7    2007        WD       Abnorml   \n",
            "\n",
            "     SalePrice  \n",
            "Id              \n",
            "1183    745000  \n",
            "\n",
            "[1 rows x 73 columns]\n"
          ]
        }
      ],
      "source": [
        "# Создаем маску для подвыборки с указанными условиями\n",
        "маска = (data_1['YrSold'] == 2007) & (data_1['SalePrice'] > 300000) & (data_1['PoolArea'] > 0)\n",
        "\n",
        "# Применяем маску для получения подвыборки\n",
        "подвыборка = data_1[маска]\n",
        "print(подвыборка)"
      ]
    },
    {
      "cell_type": "markdown",
      "metadata": {
        "id": "HJQY0lbgNRkT"
      },
      "source": [
        "### Задача 5\n",
        "*(2 балла)*\n",
        "\n",
        "Добавьте к табличке data_1 новый столбец с названием 'Flag'. Присвойте ему значения 0 или 1 в случайном порядке. Для этого\n",
        "    \n",
        "* создайте одномерный массив из случайных целых чисел 0 или 1\n",
        "* размер массива должен соответствовать количеству наблюдений в датафрейме data_1\n",
        "* создайте новый столбец и присвойте ему значения одномерного массива"
      ]
    },
    {
      "cell_type": "markdown",
      "metadata": {
        "id": "M91qBqZ-Nq0P"
      },
      "source": [
        "**Решение:**"
      ]
    },
    {
      "cell_type": "code",
      "execution_count": 8,
      "metadata": {
        "id": "I2JlfoFMDJRw"
      },
      "outputs": [
        {
          "name": "stdout",
          "output_type": "stream",
          "text": [
            "      MSSubClass MSZoning  LotArea Street LotShape LandContour Utilities  \\\n",
            "Id                                                                         \n",
            "1             60       RL     8450   Pave      Reg         Lvl    AllPub   \n",
            "2             20       RL     9600   Pave      Reg         Lvl    AllPub   \n",
            "3             60       RL    11250   Pave      IR1         Lvl    AllPub   \n",
            "4             70       RL     9550   Pave      IR1         Lvl    AllPub   \n",
            "5             60       RL    14260   Pave      IR1         Lvl    AllPub   \n",
            "...          ...      ...      ...    ...      ...         ...       ...   \n",
            "1456          60       RL     7917   Pave      Reg         Lvl    AllPub   \n",
            "1457          20       RL    13175   Pave      Reg         Lvl    AllPub   \n",
            "1458          70       RL     9042   Pave      Reg         Lvl    AllPub   \n",
            "1459          20       RL     9717   Pave      Reg         Lvl    AllPub   \n",
            "1460          20       RL     9937   Pave      Reg         Lvl    AllPub   \n",
            "\n",
            "     LotConfig LandSlope Neighborhood  ... 3SsnPorch ScreenPorch PoolArea  \\\n",
            "Id                                     ...                                  \n",
            "1       Inside       Gtl      CollgCr  ...         0           0        0   \n",
            "2          FR2       Gtl      Veenker  ...         0           0        0   \n",
            "3       Inside       Gtl      CollgCr  ...         0           0        0   \n",
            "4       Corner       Gtl      Crawfor  ...         0           0        0   \n",
            "5          FR2       Gtl      NoRidge  ...         0           0        0   \n",
            "...        ...       ...          ...  ...       ...         ...      ...   \n",
            "1456    Inside       Gtl      Gilbert  ...         0           0        0   \n",
            "1457    Inside       Gtl       NWAmes  ...         0           0        0   \n",
            "1458    Inside       Gtl      Crawfor  ...         0           0        0   \n",
            "1459    Inside       Gtl        NAmes  ...         0           0        0   \n",
            "1460    Inside       Gtl      Edwards  ...         0           0        0   \n",
            "\n",
            "     MiscVal  MoSold  YrSold  SaleType  SaleCondition SalePrice Flag  \n",
            "Id                                                                    \n",
            "1          0       2    2008        WD         Normal    208500    0  \n",
            "2          0       5    2007        WD         Normal    181500    1  \n",
            "3          0       9    2008        WD         Normal    223500    0  \n",
            "4          0       2    2006        WD        Abnorml    140000    0  \n",
            "5          0      12    2008        WD         Normal    250000    1  \n",
            "...      ...     ...     ...       ...            ...       ...  ...  \n",
            "1456       0       8    2007        WD         Normal    175000    0  \n",
            "1457       0       2    2010        WD         Normal    210000    1  \n",
            "1458    2500       5    2010        WD         Normal    266500    0  \n",
            "1459       0       4    2010        WD         Normal    142125    1  \n",
            "1460       0       6    2008        WD         Normal    147500    1  \n",
            "\n",
            "[1460 rows x 74 columns]\n"
          ]
        }
      ],
      "source": [
        "import numpy as np\n",
        "\n",
        "# Создаем одномерный массив из случайных целых чисел 0 или 1\n",
        "случайные_значения = np.random.randint(2, size=len(data_1))\n",
        "\n",
        "# Создаем новый столбец 'Flag' и присваиваем ему значения из одномерного массива\n",
        "data_1['Flag'] = случайные_значения\n",
        "print(data_1)"
      ]
    }
  ],
  "metadata": {
    "colab": {
      "provenance": []
    },
    "kernelspec": {
      "display_name": "Python 3",
      "name": "python3"
    },
    "language_info": {
      "codemirror_mode": {
        "name": "ipython",
        "version": 3
      },
      "file_extension": ".py",
      "mimetype": "text/x-python",
      "name": "python",
      "nbconvert_exporter": "python",
      "pygments_lexer": "ipython3",
      "version": "3.12.2"
    }
  },
  "nbformat": 4,
  "nbformat_minor": 0
}
