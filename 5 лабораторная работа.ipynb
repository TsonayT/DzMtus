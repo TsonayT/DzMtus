{
  "nbformat": 4,
  "nbformat_minor": 0,
  "metadata": {
    "colab": {
      "provenance": []
    },
    "kernelspec": {
      "name": "python3",
      "display_name": "Python 3"
    }
  },
  "cells": [
    {
      "cell_type": "markdown",
      "metadata": {
        "id": "g9GvNsNLK_BP"
      },
      "source": [
        "# Домашнее задание по Matplotlib и Seaborn\n",
        "# Pro\n",
        "\n",
        "### *Часть 1. Matplotlib*"
      ]
    },
    {
      "cell_type": "code",
      "metadata": {
        "id": "RQD1J0r5ZbOE"
      },
      "source": [
        "import matplotlib.pyplot as plt \n",
        "import numpy as np \n",
        "import seaborn as sns \n",
        "import pandas as pd "
      ],
      "execution_count": null,
      "outputs": []
    },
    {
      "cell_type": "markdown",
      "metadata": {
        "id": "hdgcJVWaK_BQ"
      },
      "source": [
        "### **Задача 1**\n",
        "\n",
        "*2 балла*\n",
        "\n",
        "Используя библиотеку Matplotlib, для датасета \"Ирисы\", который подгружается кодом ниже, нарисуйте точечную диаграмму (scatter plot) всех четырех признаков. Каждый признак должен быть нарисован на отдельном графике. Используйте для этого subplot формата 2 на 2. Графики должны быть читаемыми, т. е. отрегулируйте размер subplot'ов. Добавьте названия признаков к каждому графику в качестве имени графика (названия признаков можно получить с помощью метода .feature_names). Используйте метки классов (y) в качестве цветовой разметки. Добавьте расшифровку цветов, соответствующих меткам классов, в качестве лейблов.\n",
        "\n",
        "P.S. Используйте функцию plt.scatter(x, y, color)."
      ]
    },
    {
      "cell_type": "code",
      "metadata": {
        "id": "WC1Xkt9NK_BR"
      },
      "source": [
        "from sklearn import datasets\n",
        "data = datasets.load_iris(return_X_y=False)\n",
        "X = data.data\n",
        "y = data.target\n",
        "names = data.target_names"
      ],
      "execution_count": null,
      "outputs": []
    },
    {
      "cell_type": "markdown",
      "metadata": {
        "id": "pgm0qznhnCGc"
      },
      "source": [
        "### **Решение:**"
      ]
    },
    {
      "cell_type": "code",
      "metadata": {
        "id": "QsqM8RpZbtm-"
      },
      "source": [],
      "execution_count": null,
      "outputs": []
    },
    {
      "cell_type": "markdown",
      "metadata": {
        "id": "HAU5pISeK_Bb"
      },
      "source": [
        "### **Задача 2**\n",
        "\n",
        "*2 балла*\n",
        "\n",
        "Используя библиотеку Matplotlib, постройте гистограмму для первого признака в датасете выше следующим образом:\n",
        "* на одном графике должно быть три гистограммы, по одной на каждый класс,\n",
        "* для этого используйте методологии подвыборки массива с условием,\n",
        "* количество бинов должно определяться автоматически (режим \"auto\"),\n",
        "* гистограмма должна быть читаемой, т. е. добавьте подписи, лейблы, названия и т. д."
      ]
    },
    {
      "cell_type": "markdown",
      "metadata": {
        "id": "ZxWiodeWnKHL"
      },
      "source": [
        "### **Решение:**"
      ]
    },
    {
      "cell_type": "code",
      "metadata": {
        "id": "32evVk86bxN7"
      },
      "source": [],
      "execution_count": null,
      "outputs": []
    },
    {
      "cell_type": "markdown",
      "metadata": {
        "id": "p7NYouNDK_Bc"
      },
      "source": [
        "### **Задача 3**\n",
        "\n",
        "*2 балла*\n",
        "\n",
        "Используя библиотеку Matplotlib, посчитайте матрицу корреляции между признаками и нарисуйте ее как heatmap. Подберите подходящую по смыслу цветовую гамму. Добавьте названия признаков в качестве тиков по осям. Добавьте отрисовку цветовой шкалы."
      ]
    },
    {
      "cell_type": "markdown",
      "metadata": {
        "id": "HR3n3_-DnMsJ"
      },
      "source": [
        "### **Решение:**"
      ]
    },
    {
      "cell_type": "code",
      "metadata": {
        "id": "QKueoyJjb2Gg"
      },
      "source": [],
      "execution_count": null,
      "outputs": []
    },
    {
      "cell_type": "markdown",
      "metadata": {
        "id": "JGNAoUb-K_Bg"
      },
      "source": [
        "### *Часть 2. Seaborn*"
      ]
    },
    {
      "cell_type": "markdown",
      "metadata": {
        "id": "OO33kCmfK_Bg"
      },
      "source": [
        "### **Задача 4**\n",
        "\n",
        "*2 балла*\n",
        "\n",
        "Для датасета Occupancy (datatraining.txt) постройте диаграмму присутствия в разбивке по часам и меткам классов *(метки классов хранятся в столбце 'occupancy)'*. Для этого сделайте следующее:\n",
        "*   создайте новый столбец \"hour\", отвечающий соответствующему часу, \n",
        "*   нарисуйте sns.countplot этого столбца в разбивке по Occupancy."
      ]
    },
    {
      "cell_type": "code",
      "metadata": {
        "id": "PMUuGjZebvCK",
        "colab": {
          "base_uri": "https://localhost:8080/",
          "height": 122
        },
        "outputId": "f029239f-a960-466b-c218-3a472f6de63b"
      },
      "source": [
        "from google.colab import drive \n",
        "drive.mount('/content/drive/')"
      ],
      "execution_count": null,
      "outputs": [
        {
          "output_type": "stream",
          "text": [
            "Go to this URL in a browser: https://accounts.google.com/o/oauth2/auth?client_id=947318989803-6bn6qk8qdgf4n4g3pfee6491hc0brc4i.apps.googleusercontent.com&redirect_uri=urn%3aietf%3awg%3aoauth%3a2.0%3aoob&scope=email%20https%3a%2f%2fwww.googleapis.com%2fauth%2fdocs.test%20https%3a%2f%2fwww.googleapis.com%2fauth%2fdrive%20https%3a%2f%2fwww.googleapis.com%2fauth%2fdrive.photos.readonly%20https%3a%2f%2fwww.googleapis.com%2fauth%2fpeopleapi.readonly&response_type=code\n",
            "\n",
            "Enter your authorization code:\n",
            "··········\n",
            "Mounted at /content/drive/\n"
          ],
          "name": "stdout"
        }
      ]
    },
    {
      "cell_type": "markdown",
      "metadata": {
        "id": "lEOJuFscnVGH"
      },
      "source": [
        "### **Решение:**"
      ]
    },
    {
      "cell_type": "code",
      "metadata": {
        "id": "anwn6fhpb5XW"
      },
      "source": [],
      "execution_count": null,
      "outputs": []
    },
    {
      "cell_type": "markdown",
      "metadata": {
        "id": "YOonAwBqK_Bh"
      },
      "source": [
        "### **Задача 5**\n",
        "\n",
        "*2 балла*\n",
        "\n",
        "Сделайте resample данных по получасовому интервалу с использованием усреднения для всех признаков.\n",
        "\n",
        "Постройте sns.jointplot между признаками Light и CO2."
      ]
    },
    {
      "cell_type": "markdown",
      "metadata": {
        "id": "HXvRogIonZ5Z"
      },
      "source": [
        "### **Решение:**"
      ]
    },
    {
      "cell_type": "code",
      "metadata": {
        "id": "hcaOOfD3b90I"
      },
      "source": [],
      "execution_count": null,
      "outputs": []
    }
  ]
}