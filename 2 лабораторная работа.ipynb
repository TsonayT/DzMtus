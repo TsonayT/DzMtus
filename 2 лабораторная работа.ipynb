{
 "cells": [
  {
   "cell_type": "markdown",
   "metadata": {
    "id": "FeqqaWYY0lhg"
   },
   "source": [
    "# Numpy. Лабораторная работа 2\n",
    "\n",
    "*2 балла за каждую задачу*"
   ]
  },
  {
   "cell_type": "markdown",
   "metadata": {
    "id": "iQhtbx8Z8SZj"
   },
   "source": [
    "### Задача 1\n",
    "*(2 балла)*\n",
    "\n",
    "* Подгрузите массив с файла **iris.csv** и назовите этот массив my_array. \n",
    "\n",
    "* Создайте двумерный массив из случайных чисел той же размерности, что и my_array (раздел \"Семплирование из распределений\", потребуется использовать размерность массива my_array).\n",
    "\n",
    "* Назовите его my_generated_array."
   ]
  },
  {
   "cell_type": "markdown",
   "metadata": {
    "id": "KdbAknB0AR0O"
   },
   "source": [
    "**Решение:**"
   ]
  },
  {
   "cell_type": "code",
   "execution_count": 10,
   "metadata": {
    "id": "uQDyuRTB_ntY"
   },
   "outputs": [],
   "source": [
    "# Подгружаем массив с файла iris.csv и называем его my_array\n",
    "import pandas as pd\n",
    "my_array = pd.read_csv('iris.csv')\n",
    "\n",
    "# Создаем двумерный массив из случайных чисел той же размерности, что и my_array\n",
    "import numpy as np\n",
    "shape = my_array.shape\n",
    "my_generated_array = np.random.rand(shape[0], shape[1])\n"
   ]
  },
  {
   "cell_type": "markdown",
   "metadata": {
    "id": "hzR46ceA8SZp"
   },
   "source": [
    "### Задача 2\n",
    "*(2 балла)*\n",
    "\n",
    "* Выполните поэлементное умножение my_array на my_generated_array (раздел \"Векторные операции\").\n",
    "\n",
    "* Склейте массивы my_array, my_generated_array в один (могут помочь методы np.concatenate, np.vstack, np.hstack).\n",
    "\n",
    "* Возьмите склеенный массив и разделите его на равные части (больше двух). Можно сделать вручную через циклы либо воспользоваться методом vsplit."
   ]
  },
  {
   "cell_type": "markdown",
   "metadata": {
    "id": "VJbqrCAvA0My"
   },
   "source": [
    "**Решение:**"
   ]
  },
  {
   "cell_type": "code",
   "execution_count": 12,
   "metadata": {
    "id": "VuQOLDyRA0My"
   },
   "outputs": [],
   "source": [
    "# Выполняем поэлементное умножение my_array на my_generated_array\n",
    "elementwise_product = my_array * my_generated_array\n",
    "\n",
    "# Склеиваем массивы my_array, my_generated_array в один\n",
    "concatenated_array = np.concatenate((my_array, my_generated_array), axis=0)\n",
    "\n",
    "# Разделяем склеенный массив на равные части\n",
    "parts = np.vsplit(concatenated_array, 3)  # Разделение на три равные части\n"
   ]
  },
  {
   "cell_type": "markdown",
   "metadata": {
    "id": "z08ODJt78SZw"
   },
   "source": [
    "### Задача 3\n",
    "*(2 балла)*\n",
    "\n",
    "* Найдите все элементы массива my_array, которые больше трех и меньше 5 одновременно. Используйте методологию подвыборки массива с условием (раздел \"Индексация\")."
   ]
  },
  {
   "cell_type": "markdown",
   "metadata": {
    "id": "ABomd938A0wl"
   },
   "source": [
    "**Решение:**"
   ]
  },
  {
   "cell_type": "code",
   "execution_count": 14,
   "metadata": {
    "id": "VvyzSiqWA0wn"
   },
   "outputs": [
    {
     "name": "stdout",
     "output_type": "stream",
     "text": [
      "     Unnamed: 0  sepal.length  sepal.width  petal.length  petal.width\n",
      "0           NaN           NaN          3.5           NaN          NaN\n",
      "1           NaN           4.9          NaN           NaN          NaN\n",
      "2           NaN           4.7          3.2           NaN          NaN\n",
      "3           NaN           4.6          3.1           NaN          NaN\n",
      "4           4.0           NaN          3.6           NaN          NaN\n",
      "..          ...           ...          ...           ...          ...\n",
      "145         NaN           NaN          NaN           NaN          NaN\n",
      "146         NaN           NaN          NaN           NaN          NaN\n",
      "147         NaN           NaN          NaN           NaN          NaN\n",
      "148         NaN           NaN          3.4           NaN          NaN\n",
      "149         NaN           NaN          NaN           NaN          NaN\n",
      "\n",
      "[150 rows x 5 columns]\n"
     ]
    }
   ],
   "source": [
    "subset = my_array[(my_array > 3) & (my_array < 5)]\n",
    "print (subset)"
   ]
  },
  {
   "cell_type": "markdown",
   "metadata": {
    "id": "P_O3RZUR8SZ6"
   },
   "source": [
    "### Задача 4\n",
    "*(2 балла)*\n",
    "\n",
    "Создайте трехмерный массив размера 2 на 3 на 4, состоящий из случайных ВЕЩЕСТВЕННЫХ чисел от 15 до 37. Используйте встроенные методы библиотеки  np.random."
   ]
  },
  {
   "cell_type": "markdown",
   "metadata": {
    "id": "tpfyzjF0A1HD"
   },
   "source": [
    "**Решение:**"
   ]
  },
  {
   "cell_type": "code",
   "execution_count": 16,
   "metadata": {
    "id": "-l2omKOiA1HF"
   },
   "outputs": [
    {
     "name": "stdout",
     "output_type": "stream",
     "text": [
      "[[[31.69180921 30.71143892 23.81137998 29.94706234]\n",
      "  [21.30020499 27.50146089 34.00930654 19.46847008]\n",
      "  [35.22432427 32.90350928 33.52488166 34.11878878]]\n",
      "\n",
      " [[15.35703803 34.35778983 21.74146455 15.01737438]\n",
      "  [17.7514004  23.59371463 16.33564759 25.24835151]\n",
      "  [35.75826681 32.01757549 34.896325   33.50103154]]]\n"
     ]
    }
   ],
   "source": [
    "three_dim_array = np.random.uniform(15, 37, size=(2, 3, 4))\n",
    "print(three_dim_array)"
   ]
  },
  {
   "cell_type": "markdown",
   "metadata": {
    "id": "_8q3NF_k8SaA"
   },
   "source": [
    "### Задача 5\n",
    "*(2 балла)*\n",
    "\n",
    "Используя массив из предыдущей задачи, преобразуйте его в новый массив со следующими значениями:\n",
    "\n",
    "    * \"small\", если значения меньше 20\n",
    "    * \"medium\", если значения в промежутке [20, 30]\n",
    "    * \"large\", если значения больше 30"
   ]
  },
  {
   "cell_type": "markdown",
   "metadata": {
    "id": "W0pitA1DA1vG"
   },
   "source": [
    "**Решение:**"
   ]
  },
  {
   "cell_type": "code",
   "execution_count": 17,
   "metadata": {
    "id": "H6EAMd9XA1vH"
   },
   "outputs": [
    {
     "name": "stdout",
     "output_type": "stream",
     "text": [
      "['small', 'medium', 'large', 'small', 'medium']\n"
     ]
    }
   ],
   "source": [
    "предыдущий_массив = [10, 25, 35, 15, 30]\n",
    "новый_массив = []\n",
    "\n",
    "for значение in предыдущий_массив:\n",
    "    if значение < 20:\n",
    "        новый_массив.append(\"small\")\n",
    "    elif 20 <= значение <= 30:\n",
    "        новый_массив.append(\"medium\")\n",
    "    else:\n",
    "        новый_массив.append(\"large\")\n",
    "\n",
    "print(новый_массив)  # ['small', 'medium', 'large', 'small', 'medium']\n"
   ]
  }
 ],
 "metadata": {
  "colab": {
   "provenance": []
  },
  "kernelspec": {
   "display_name": "Python 3 (ipykernel)",
   "language": "python",
   "name": "python3"
  },
  "language_info": {
   "codemirror_mode": {
    "name": "ipython",
    "version": 3
   },
   "file_extension": ".py",
   "mimetype": "text/x-python",
   "name": "python",
   "nbconvert_exporter": "python",
   "pygments_lexer": "ipython3",
   "version": "3.12.2"
  }
 },
 "nbformat": 4,
 "nbformat_minor": 1
}
